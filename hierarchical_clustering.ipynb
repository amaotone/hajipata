{
 "cells": [
  {
   "cell_type": "markdown",
   "metadata": {},
   "source": [
    "# 階層的クラスタリング\n",
    "融合法に基づく階層的クラスタリングを実装してみた。\n",
    "\n",
    "TODO\n",
    "- クラスタ間距離の定義\n",
    "- 距離行列の更新をもうちょっとサボる"
   ]
  },
  {
   "cell_type": "code",
   "execution_count": 1,
   "metadata": {
    "collapsed": true
   },
   "outputs": [],
   "source": [
    "# !pip install -U tqdm"
   ]
  },
  {
   "cell_type": "code",
   "execution_count": 2,
   "metadata": {
    "collapsed": true
   },
   "outputs": [],
   "source": [
    "from pprint import pprint\n",
    "import numpy as np\n",
    "import pandas as pd\n",
    "import matplotlib.pyplot as plt\n",
    "%matplotlib inline\n",
    "\n",
    "from tqdm import tqdm\n",
    "from scipy.spatial import distance\n",
    "from sklearn.decomposition import PCA\n",
    "from sklearn.datasets import load_iris"
   ]
  },
  {
   "cell_type": "code",
   "execution_count": 3,
   "metadata": {
    "collapsed": true
   },
   "outputs": [],
   "source": [
    "def pca(X, target):\n",
    "    pca = PCA(n_components=2, whiten=True)\n",
    "    X_trans = pca.fit_transform(X)\n",
    "    \n",
    "    plt.scatter(X_trans[:, 0], X_trans[:, 1], c=target)\n",
    "    plt.show()\n",
    "    \n",
    "def show_clusters(clusters):\n",
    "    data = np.array(sum(clusters, []))\n",
    "    labels = np.array(sum([[str(i)]*len(cluster) for i, cluster in enumerate(clusters)], []))\n",
    "    pca(data, labels)"
   ]
  },
  {
   "cell_type": "code",
   "execution_count": 4,
   "metadata": {},
   "outputs": [
    {
     "data": {
      "image/png": "[encoded data removed]",
      "text/plain": [
       "<matplotlib.figure.Figure at 0x112e68fd0>"
      ]
     },
     "metadata": {},
     "output_type": "display_data"
    }
   ],
   "source": [
    "data, target = load_iris(return_X_y=True)\n",
    "pca(data, target)"
   ]
  },
  {
   "cell_type": "code",
   "execution_count": 5,
   "metadata": {
    "collapsed": true
   },
   "outputs": [],
   "source": [
    "def single_linkage(A, B, distance):\n",
    "    d = float('inf')\n",
    "    for a in A:\n",
    "        for b in B:\n",
    "            d = min(d, distance(a, b))\n",
    "    return d\n",
    "\n",
    "def complete_linkage(A, B, distance):\n",
    "    d = -float('inf')\n",
    "    for a in A:\n",
    "        for b in B:\n",
    "            d = max(d, distance(a, b))\n",
    "    return d\n",
    "\n",
    "def group_average(A, B, distance):\n",
    "    # TODO: 実装\n",
    "    return d\n",
    "\n",
    "def ward(A, B, distance):\n",
    "    # TODO: 実装\n",
    "    return d\n",
    "\n",
    "def median(A, B, distance):\n",
    "    # TODO: 実装\n",
    "    return d\n",
    "\n",
    "def centroid(A, B, distance):\n",
    "    # TODO: 実装\n",
    "    return d"
   ]
  },
  {
   "cell_type": "code",
   "execution_count": null,
   "metadata": {},
   "outputs": [],
   "source": [
    "def hierarchical_clustering(X, k=3, distance=distance.euclidean, method=single_linkage):\n",
    "    clusters = [[X[i]] for i in range(len(X))]  # 各サンプルをクラスタとみなす\n",
    "    n_updates = len(clusters) - k\n",
    "    pbar = tqdm(total=n_updates)\n",
    "    while len(clusters) > k:\n",
    "        # TODO: 距離行列をつくりなおしではなく更新にする\n",
    "        D = distance_matrix(clusters, distance=distance, method=method)\n",
    "        a_index, b_index = np.unravel_index(np.nanargmin(D), D.shape)\n",
    "\n",
    "        assert b_index > a_index\n",
    "        b = clusters.pop(b_index)\n",
    "        a = clusters.pop(a_index)\n",
    "        clusters.append(a+b)\n",
    "        \n",
    "        # 進捗表示\n",
    "        pbar.update(1)\n",
    "    pbar.close()\n",
    "    return clusters\n",
    "\n",
    "def distance_matrix(clusters, distance, method):\n",
    "    D = np.zeros((len(clusters), len(clusters)))\n",
    "    D[:, :] = np.nan\n",
    "    for i in range(len(clusters)-1):\n",
    "        for j in range(i+1, len(clusters)):\n",
    "            A = clusters[i]\n",
    "            B = clusters[j]\n",
    "            d = method(A, B, distance)\n",
    "            D[i, j] = d\n",
    "    return D"
   ]
  },
  {
   "cell_type": "code",
   "execution_count": null,
   "metadata": {
    "scrolled": false
   },
   "outputs": [
    {
     "name": "stderr",
     "output_type": "stream",
     "text": [
      " 80%|████████  | 118/147 [00:28<00:06,  4.55it/s]"
     ]
    }
   ],
   "source": [
    "clusters = hierarchical_clustering(data, k=3, distance=distance.euclidean, method=complete_linkage)\n",
    "show_clusters(clusters)"
   ]
  }
 ],
 "metadata": {
  "kernelspec": {
   "display_name": "Python 3",
   "language": "python",
   "name": "python3"
  },
  "language_info": {
   "codemirror_mode": {
    "name": "ipython",
    "version": 3
   },
   "file_extension": ".py",
   "mimetype": "text/x-python",
   "name": "python",
   "nbconvert_exporter": "python",
   "pygments_lexer": "ipython3",
   "version": "3.6.1"
  }
 },
 "nbformat": 4,
 "nbformat_minor": 2
}
