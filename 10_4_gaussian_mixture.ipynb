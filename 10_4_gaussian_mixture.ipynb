{
 "cells": [
  {
   "cell_type": "markdown",
   "metadata": {},
   "source": [
    "# Gaussian Mixture Modelによるクラスタリング"
   ]
  },
  {
   "cell_type": "code",
   "execution_count": 1,
   "metadata": {
    "collapsed": true
   },
   "outputs": [],
   "source": [
    "import numpy as np\n",
    "import matplotlib.pyplot as plt\n",
    "from sklearn.decomposition import PCA\n",
    "from sklearn.datasets import load_iris"
   ]
  },
  {
   "cell_type": "code",
   "execution_count": 2,
   "metadata": {
    "collapsed": true
   },
   "outputs": [],
   "source": [
    "def pca(X, target):\n",
    "    pca = PCA(n_components=2, whiten=False)\n",
    "    X_trans = pca.fit_transform(X)\n",
    "    \n",
    "    plt.scatter(X_trans[:, 0], X_trans[:, 1], c=target, cmap=plt.cm.rainbow)\n",
    "    plt.show()\n",
    "    \n",
    "def show_clusters(clusters):\n",
    "    data = np.array(sum(clusters, []))\n",
    "    labels = np.array(sum([[str(i)]*len(cluster) for i, cluster in enumerate(clusters)], []))\n",
    "    pca(data, labels)"
   ]
  },
  {
   "cell_type": "code",
   "execution_count": 3,
   "metadata": {
    "collapsed": true
   },
   "outputs": [],
   "source": [
    "def gaussian(X, mu, sigma):\n",
    "    dim = X.shape[1]\n",
    "    sigma_inv = np.linalg.inv(sigma.T).T\n",
    "    diff = X[:, :, None] - mu\n",
    "    exponent = np.sum(np.einsum('nik,ijk->njk', diff, sigma_inv)*diff, axis=1)\n",
    "    k = 1/(((2*np.pi)**dim)*np.sqrt(np.linalg.det(sigma.T).T))\n",
    "    return k * np.exp(-0.5*exponent)\n",
    "    \n",
    "class GaussianMixtureModel():\n",
    "    def __init__(self, n_components):\n",
    "        self.n_components = n_components\n",
    "    \n",
    "    def fit(self, X, max_iter=10):\n",
    "        dim = X.shape[1]\n",
    "        \n",
    "        # pi, mu, sigmaの初期化\n",
    "        self.weights = np.ones(self.n_components) / self.n_components\n",
    "        self.means = np.random.uniform(X.min(), X.max(), size=(dim, self.n_components))\n",
    "        self.covs = np.repeat(np.eye(dim), self.n_components).reshape(dim, dim, self.n_components)\n",
    "        \n",
    "        # EMアルゴリズム\n",
    "        for i in range(max_iter):\n",
    "            old = np.concatenate([self.weights.ravel(), self.means.ravel(), self.covs.ravel()])\n",
    "            res = self.expectation(X)\n",
    "            self.maximization(X, res)\n",
    "            new = np.concatenate([self.weights.ravel(), self.means.ravel(), self.covs.ravel()])\n",
    "            if np.allclose(old, new):\n",
    "                print('converged in {} iter'.format(i))\n",
    "                return\n",
    "        \n",
    "        print('not converged')\n",
    "        \n",
    "    def expectation(self, X):\n",
    "        gammas = self.weights * gaussian(X, self.means, self.covs)\n",
    "        gammas /= gammas.sum(axis=-1, keepdims=True)\n",
    "        return gammas\n",
    "    \n",
    "    def maximization(self, X, gammas):\n",
    "        Nk = np.sum(gammas, axis=0)\n",
    "        self.means = X.T.dot(gammas) / Nk\n",
    "        diff = X[:, :, None] - self.means\n",
    "        self.covs = np.einsum('nik,njk->ijk', diff, diff*np.expand_dims(gammas, 1))/Nk\n",
    "        self.weights = Nk / len(X)\n",
    "    \n",
    "    def predict_proba(self, X):\n",
    "        res = self.weights * gaussian(X, self.means, self.covs)\n",
    "        return np.sum(res, axis=-1)\n",
    "    \n",
    "    def predict(self, X):\n",
    "        res = self.weights * gaussian(X, self.means, self.covs)\n",
    "        return np.argmax(res, axis=-1)"
   ]
  },
  {
   "cell_type": "code",
   "execution_count": 4,
   "metadata": {},
   "outputs": [],
   "source": [
    "X, target = load_iris(return_X_y=True)"
   ]
  },
  {
   "cell_type": "code",
   "execution_count": 5,
   "metadata": {},
   "outputs": [
    {
     "name": "stdout",
     "output_type": "stream",
     "text": [
      "converged in 43 iter\n"
     ]
    },
    {
     "data": {
      "image/png": "[encoded data removed]",
      "text/plain": [
       "<matplotlib.figure.Figure at 0x111c9c9e8>"
      ]
     },
     "metadata": {},
     "output_type": "display_data"
    }
   ],
   "source": [
    "np.random.seed(150)  # seedによって結果が変わる\n",
    "model = GaussianMixtureModel(n_components=3)\n",
    "model.fit(X, max_iter=100)\n",
    "clusters = model.predict(X)\n",
    "pca(X, clusters)"
   ]
  }
 ],
 "metadata": {
  "kernelspec": {
   "display_name": "Python 3",
   "language": "python",
   "name": "python3"
  },
  "language_info": {
   "codemirror_mode": {
    "name": "ipython",
    "version": 3
   },
   "file_extension": ".py",
   "mimetype": "text/x-python",
   "name": "python",
   "nbconvert_exporter": "python",
   "pygments_lexer": "ipython3",
   "version": "3.6.1"
  }
 },
 "nbformat": 4,
 "nbformat_minor": 2
}
